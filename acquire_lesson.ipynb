{
 "cells": [
  {
   "cell_type": "code",
   "execution_count": 2,
   "metadata": {},
   "outputs": [],
   "source": [
    "import pandas as pd\n",
    "import requests"
   ]
  },
  {
   "cell_type": "markdown",
   "metadata": {},
   "source": [
    "# Internet 101 Stuff\n",
    "- Clients send **requests** to servers\n",
    "    - clients are browsers or applications or wearables\n",
    "- Servers determine what or if they should send back as a **response**\n",
    "- We need to have sent a **request** in order to get a **response**"
   ]
  },
  {
   "cell_type": "markdown",
   "metadata": {},
   "source": [
    "### Main Types of HTTP Requests:\n",
    "- GET is Download request\n",
    "    - GET Request can have key=>value pairs \n",
    "    - Those key=>value pairs go in the URL https://www.youtube.com/results?search_query=python\n",
    "- POST is Upload request (almost all form submissions, and definitely login and registration forms use POST)"
   ]
  },
  {
   "cell_type": "markdown",
   "metadata": {},
   "source": [
    "### Responses from Server\n",
    "- Servers send back responses with a status code.\n",
    "- For more info on status codes:\n",
    "    - https://httpstatusdogs.com/ or https://http.cat/"
   ]
  },
  {
   "cell_type": "markdown",
   "metadata": {},
   "source": [
    "### API\n",
    "- Application Programming Interface\n",
    "- Think about an API as a liason between computers that allows one program to make a request of another.\n",
    "    - A User Interface is what you as a human would use to interact with a program, where an API is one that allows something like an application or a script interact with that program, like a weather app on your phone might use an API from a popular weather source like the weather channel for your local weather data\n",
    "    - On a human metaphor, a common way to imagine the API is a waiter taking the request (GET) from a customer (Client) that sends this to the kitchen and returns the food, inability to fulfill the order, etc (response)"
   ]
  },
  {
   "cell_type": "markdown",
   "metadata": {},
   "source": [
    "### REST\n",
    "- referring to *Representational State Transfer*, is a set of guidelines for structuring urls. Often times you will encounter the phrase RESTful to describe web sites or web services that follow REST guidelines. [More on REST](https://en.wikipedia.org/wiki/Representational_state_transfer)"
   ]
  },
  {
   "cell_type": "code",
   "execution_count": 19,
   "metadata": {},
   "outputs": [],
   "source": [
    "# \n",
    "# Let's take an example url and make a get request\n",
    "\n",
    "\n",
    "url = \"https://101exercises.com\"\n",
    "response = requests.get(url)\n"
   ]
  },
  {
   "cell_type": "markdown",
   "metadata": {},
   "source": [
    "The response object has several interesting properties:\n",
    "\n",
    "- `.ok`: a boolean that indicates that the response was successful (the server sent back a 200 response code)\n",
    "- `.status_code`: a number indicating the HTTP response status code \n",
    "- `.text`: the raw response text"
   ]
  },
  {
   "cell_type": "code",
   "execution_count": 23,
   "metadata": {},
   "outputs": [
    {
     "name": "stdout",
     "output_type": "stream",
     "text": [
      "True ,  <class 'bool'>\n"
     ]
    }
   ],
   "source": [
    "print(response.ok,', ', type(response.ok))"
   ]
  },
  {
   "cell_type": "code",
   "execution_count": null,
   "metadata": {},
   "outputs": [],
   "source": [
    "print(response.status_code,', ', type(response.status_code))"
   ]
  },
  {
   "cell_type": "code",
   "execution_count": 25,
   "metadata": {},
   "outputs": [],
   "source": [
    "print(response.text,', ', type(response.text))"
   ]
  },
  {
   "cell_type": "markdown",
   "metadata": {},
   "source": [
    "### How We'll Use Requests Right Now\n",
    "- We'll be sending HTTP requests to a REST API that returns JSON\n",
    "- That means we're using the `requests.get` as a programmatic way to send GET requests instead of using the browser, \n",
    "- REST is a convention (not an engineering standard, sadly) for mapping URL patterns to functions the server runs.\n",
    "- Imagine we're an imaginary API for a car buying site. Here's a diagram that shows which URLs call which functions and what they do.\n",
    "- \"endpoint\" is the part of the URL that goes after the base url like carmax.com or similar.\n",
    "- The \"method\" column here is a function that the web server would run to produce the appropriate response given the data from the request URL\n",
    "- This is REST at a high level\n",
    "\n",
    "| What it does                    | Endpoint            | Request Type | Method |\n",
    "| ------------------------------- | ------------------- | ------------ | ------ |\n",
    "| Show an index of all cars     | /cars             | GET          |  show_all()      |\n",
    "| Show a random car             | /cars/random      | GET          |  random()      |\n",
    "| Show car w/ id 5              | /cars/5      | GET          |  show(id)      |\n",
    "| Load car 5 to edit            | /cars/5/edit      | GET          |  edit(id)      |\n",
    "| Search for Toyota MR2            | /cars/search?make=Toyota&model=mr2      | GET          |  search(term)      |"
   ]
  },
  {
   "cell_type": "markdown",
   "metadata": {},
   "source": [
    "## Handling Text Responses\n",
    "- If it's plain text you can handle and parse, go for it\n",
    "- If the string contains HTML,\n",
    "    - Save and render in a browser to see results\n",
    "    - Or parse with BeautifulSoup or similar library\n",
    "- Scraping is a function of getting HTML and then parsing the data you want from it. We'll do this a bunch in NLP."
   ]
  },
  {
   "cell_type": "code",
   "execution_count": 6,
   "metadata": {},
   "outputs": [],
   "source": [
    "response = requests.get(\"http://aphorisms.glitch.me/api/random\")"
   ]
  },
  {
   "cell_type": "code",
   "execution_count": 9,
   "metadata": {},
   "outputs": [
    {
     "data": {
      "text/plain": [
       "{'quote': \"It's tough to make predictions, especially about the future.\",\n",
       " 'author': 'Yogi Berra\\u2029'}"
      ]
     },
     "execution_count": 9,
     "metadata": {},
     "output_type": "execute_result"
    }
   ],
   "source": [
    "# .json returns the parsed JSON from a response\n"
   ]
  },
  {
   "cell_type": "code",
   "execution_count": 10,
   "metadata": {},
   "outputs": [
    {
     "data": {
      "text/plain": [
       "dict"
      ]
     },
     "execution_count": 10,
     "metadata": {},
     "output_type": "execute_result"
    }
   ],
   "source": [
    "# the python object after .json() will be: \n"
   ]
  },
  {
   "cell_type": "code",
   "execution_count": 26,
   "metadata": {},
   "outputs": [],
   "source": [
    "response = requests.get(\"http://aphorisms.glitch.me/api/all\")"
   ]
  },
  {
   "cell_type": "markdown",
   "metadata": {},
   "source": [
    "#### What does response.json() look like this time?"
   ]
  },
  {
   "cell_type": "code",
   "execution_count": null,
   "metadata": {},
   "outputs": [],
   "source": []
  },
  {
   "cell_type": "code",
   "execution_count": null,
   "metadata": {},
   "outputs": [],
   "source": []
  },
  {
   "cell_type": "code",
   "execution_count": null,
   "metadata": {},
   "outputs": [],
   "source": []
  },
  {
   "cell_type": "markdown",
   "metadata": {},
   "source": [
    "#### Let's take a look at another api"
   ]
  },
  {
   "cell_type": "code",
   "execution_count": 29,
   "metadata": {},
   "outputs": [
    {
     "data": {
      "text/plain": [
       "{'name': 'Star Destroyer',\n",
       " 'model': 'Imperial I-class Star Destroyer',\n",
       " 'manufacturer': 'Kuat Drive Yards',\n",
       " 'cost_in_credits': '150000000',\n",
       " 'length': '1,600',\n",
       " 'max_atmosphering_speed': '975',\n",
       " 'crew': '47,060',\n",
       " 'passengers': 'n/a',\n",
       " 'cargo_capacity': '36000000',\n",
       " 'consumables': '2 years',\n",
       " 'hyperdrive_rating': '2.0',\n",
       " 'MGLT': '60',\n",
       " 'starship_class': 'Star Destroyer',\n",
       " 'pilots': [],\n",
       " 'films': ['https://swapi.dev/api/films/1/',\n",
       "  'https://swapi.dev/api/films/2/',\n",
       "  'https://swapi.dev/api/films/3/'],\n",
       " 'created': '2014-12-10T15:08:19.848000Z',\n",
       " 'edited': '2014-12-20T21:23:49.870000Z',\n",
       " 'url': 'https://swapi.dev/api/starships/3/'}"
      ]
     },
     "execution_count": 29,
     "metadata": {},
     "output_type": "execute_result"
    }
   ],
   "source": [
    "response = requests.get(\"https://swapi.dev/api/starships/3/\")\n"
   ]
  },
  {
   "cell_type": "code",
   "execution_count": null,
   "metadata": {},
   "outputs": [],
   "source": [
    "# request the values from the \"films\" key, which is a list, so we will then select the first item of that list ([0])\n",
    "url = \n",
    "# the first item of the list is a url, so we will then make a GET request to that url, and apply .json() to the response. \n",
    "response1 = \n",
    "data1 = "
   ]
  },
  {
   "cell_type": "code",
   "execution_count": null,
   "metadata": {},
   "outputs": [],
   "source": [
    "# see the data included in the first film reponse. \n"
   ]
  },
  {
   "cell_type": "code",
   "execution_count": null,
   "metadata": {},
   "outputs": [],
   "source": [
    "# dive into the characters key whose values, which are urls, are stored in a list. we will look into the first url. \n",
    "url = data1[\"characters\"][0]"
   ]
  },
  {
   "cell_type": "code",
   "execution_count": null,
   "metadata": {},
   "outputs": [],
   "source": [
    "response2 = requests.get(url)"
   ]
  },
  {
   "cell_type": "code",
   "execution_count": null,
   "metadata": {},
   "outputs": [],
   "source": [
    "data2 = response2.json()"
   ]
  },
  {
   "cell_type": "code",
   "execution_count": null,
   "metadata": {},
   "outputs": [],
   "source": [
    "data2.keys()"
   ]
  },
  {
   "cell_type": "code",
   "execution_count": null,
   "metadata": {},
   "outputs": [],
   "source": [
    "data2"
   ]
  },
  {
   "cell_type": "code",
   "execution_count": null,
   "metadata": {},
   "outputs": [],
   "source": [
    "# We are going to be following this pattern repeatedly:\n",
    "# have a url.\n",
    "# use the url as part of a request in order to receive a response\n",
    "# parse the response into tabular data"
   ]
  },
  {
   "cell_type": "markdown",
   "metadata": {},
   "source": [
    "**Look into Store-Item Demand data stored at python.zach.lol**"
   ]
  },
  {
   "cell_type": "code",
   "execution_count": 17,
   "metadata": {},
   "outputs": [
    {
     "data": {
      "text/plain": [
       "{'api': '/api/v1', 'help': '/documentation'}"
      ]
     },
     "execution_count": 17,
     "metadata": {},
     "output_type": "execute_result"
    }
   ],
   "source": [
    "base_url = 'https://python.zach.lol'\n",
    "response = requests.get(base_url)\n",
    "response.json()"
   ]
  },
  {
   "cell_type": "code",
   "execution_count": 18,
   "metadata": {},
   "outputs": [
    {
     "name": "stdout",
     "output_type": "stream",
     "text": [
      "\n",
      "The API accepts GET requests for all endpoints, where endpoints are prefixed\n",
      "with\n",
      "\n",
      "    /api/{version}\n",
      "\n",
      "Where version is \"v1\"\n",
      "\n",
      "Valid endpoints:\n",
      "\n",
      "- /stores[/{store_id}]\n",
      "- /items[/{item_id}]\n",
      "- /sales[/{sale_id}]\n",
      "\n",
      "All endpoints accept a `page` parameter that can be used to navigate through\n",
      "the results.\n",
      "\n"
     ]
    }
   ],
   "source": [
    "# look into the /documentation endpoint\n",
    "response = \n",
    "# response.json().keys()\n",
    "# print(response.json()['payload'])"
   ]
  },
  {
   "cell_type": "code",
   "execution_count": null,
   "metadata": {},
   "outputs": [],
   "source": [
    "base_url =  \"https://python.zach.lol/api/v1\""
   ]
  },
  {
   "cell_type": "code",
   "execution_count": null,
   "metadata": {},
   "outputs": [],
   "source": [
    "# get our stores response by adapting our base url\n",
    "stores_response = requests.get(base_url + \n",
    "# save the formatted payload from the response\n",
    "stores_payload = "
   ]
  },
  {
   "cell_type": "code",
   "execution_count": null,
   "metadata": {},
   "outputs": [],
   "source": [
    "# do that again for items\n",
    "items_response = requests.get(base_url + \n",
    "\n",
    "items_payload = "
   ]
  },
  {
   "cell_type": "code",
   "execution_count": null,
   "metadata": {},
   "outputs": [],
   "source": [
    "# This variable is just a dictionary, we can get the keys with .keys\n"
   ]
  },
  {
   "cell_type": "code",
   "execution_count": null,
   "metadata": {},
   "outputs": [],
   "source": [
    "first_page_of_items = \n",
    "first_page_of_items"
   ]
  },
  {
   "cell_type": "code",
   "execution_count": null,
   "metadata": {},
   "outputs": [],
   "source": [
    "endpoint_for_second_page = "
   ]
  },
  {
   "cell_type": "code",
   "execution_count": null,
   "metadata": {},
   "outputs": [],
   "source": [
    "page2_items_response = requests.get(\"https://python.zach.lol\"+\n",
    "items_page2_payload = page2_items_response.json()['payload']\n",
    "second_page_of_items = items_page2_payload['items']\n",
    "second_page_of_items"
   ]
  },
  {
   "cell_type": "code",
   "execution_count": null,
   "metadata": {},
   "outputs": [],
   "source": [
    "endpoint_for_third_page = items_page2_payload['next_page']\n",
    "page3_items_response = requests.get(\"https://python.zach.lol\" + endpoint_for_third_page)\n",
    "page3_items_response.json().keys()"
   ]
  },
  {
   "cell_type": "code",
   "execution_count": null,
   "metadata": {},
   "outputs": [],
   "source": [
    "items_page3_payload = page3_items_response.json()['payload']\n",
    "items_page3_payload.keys()"
   ]
  },
  {
   "cell_type": "code",
   "execution_count": null,
   "metadata": {},
   "outputs": [],
   "source": [
    "third_page_of_items = items_page3_payload['items']\n",
    "third_page_of_items[0].keys()"
   ]
  },
  {
   "cell_type": "code",
   "execution_count": null,
   "metadata": {},
   "outputs": [],
   "source": [
    "third_page_of_items"
   ]
  },
  {
   "cell_type": "code",
   "execution_count": null,
   "metadata": {},
   "outputs": [],
   "source": [
    "items = []\n",
    "items = first_page_of_items + second_page_of_items + third_page_of_items\n",
    "items = pd.DataFrame(items)"
   ]
  },
  {
   "cell_type": "code",
   "execution_count": 5,
   "metadata": {},
   "outputs": [],
   "source": [
    "items_list = []\n",
    "\n",
    "response = requests.get('https://python.zach.lol/api/v1/items')\n",
    "data = response.json()\n",
    "n = data['payload']['max_page']\n",
    "\n",
    "for i in range(1,n+1):\n",
    "    url = 'https://python.zach.lol/api/v1/items?page='+str(i)\n",
    "    response = requests.get(url)\n",
    "    data = response.json()\n",
    "    page_items = data['payload']['items']\n",
    "    items_list += page_items"
   ]
  }
 ],
 "metadata": {
  "kernelspec": {
   "display_name": "Python 3",
   "language": "python",
   "name": "python3"
  },
  "language_info": {
   "codemirror_mode": {
    "name": "ipython",
    "version": 3
   },
   "file_extension": ".py",
   "mimetype": "text/x-python",
   "name": "python",
   "nbconvert_exporter": "python",
   "pygments_lexer": "ipython3",
   "version": "3.8.2"
  }
 },
 "nbformat": 4,
 "nbformat_minor": 4
}
