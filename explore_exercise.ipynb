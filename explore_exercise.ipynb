{
 "cells": [
  {
   "cell_type": "markdown",
   "metadata": {},
   "source": [
    "# TSA: Explore"
   ]
  },
  {
   "cell_type": "code",
   "execution_count": null,
   "metadata": {},
   "outputs": [],
   "source": [
    "import matplotlib.pyplot as plt\n",
    "import pandas as pd\n",
    "import seaborn as sns\n",
    "import statsmodels.api as sm"
   ]
  },
  {
   "cell_type": "code",
   "execution_count": null,
   "metadata": {},
   "outputs": [],
   "source": [
    "plt.rc('figure', figsize=(13, 7))\n",
    "plt.rc('font', size=16)\n",
    "plt.style.use('ggplot')"
   ]
  },
  {
   "cell_type": "markdown",
   "metadata": {},
   "source": [
    "## Store Data"
   ]
  },
  {
   "cell_type": "code",
   "execution_count": null,
   "metadata": {},
   "outputs": [],
   "source": [
    "df = pd.read_csv('store_item_demand.csv')\n",
    "df.sale_date = pd.to_datetime(df.sale_date)\n",
    "df = df.set_index('sale_date')"
   ]
  },
  {
   "cell_type": "markdown",
   "metadata": {},
   "source": [
    "We're going to use the last year as the test dataset"
   ]
  },
  {
   "cell_type": "code",
   "execution_count": null,
   "metadata": {},
   "outputs": [],
   "source": [
    "df.index.min(), df.index.max()"
   ]
  },
  {
   "cell_type": "code",
   "execution_count": null,
   "metadata": {},
   "outputs": [],
   "source": [
    "train = df.loc[:'2016']\n",
    "test = df.loc['2017']"
   ]
  },
  {
   "cell_type": "code",
   "execution_count": null,
   "metadata": {},
   "outputs": [],
   "source": [
    "train.resample('D').sale_amount.mean().plot()\n",
    "test.resample('D').sale_amount.mean().plot()"
   ]
  },
  {
   "cell_type": "code",
   "execution_count": null,
   "metadata": {},
   "outputs": [],
   "source": [
    "y = train.resample('D').sale_amount.mean()"
   ]
  },
  {
   "cell_type": "markdown",
   "metadata": {},
   "source": [
    "> Plot the daily difference. Observe whether usage seems to vary drastically from day to day or has more of a smooth transition."
   ]
  },
  {
   "cell_type": "code",
   "execution_count": null,
   "metadata": {},
   "outputs": [],
   "source": [
    "y.diff().plot()\n",
    "plt.title('Daily Sales Amount Difference')\n",
    "plt.ylabel('Difference in sales from one day to the next')"
   ]
  },
  {
   "cell_type": "markdown",
   "metadata": {},
   "source": [
    "Maybe it would be helpful to look at percent change as well:\n",
    "\n",
    "Percent change is defined as the amount of change as a percentage of the old value."
   ]
  },
  {
   "cell_type": "code",
   "execution_count": null,
   "metadata": {},
   "outputs": [],
   "source": [
    "(y.diff() / y.shift()).plot(alpha=.7)\n",
    "plt.title('Daily % Change in Sales Amount')\n",
    "plt.ylabel('% Change')"
   ]
  },
  {
   "cell_type": "markdown",
   "metadata": {},
   "source": [
    "Let's take a look at this week over week and month over month as well."
   ]
  },
  {
   "cell_type": "code",
   "execution_count": null,
   "metadata": {},
   "outputs": [],
   "source": [
    "fig, (ax1, ax2) = plt.subplots(2, 1, sharex=True, sharey=True)\n",
    "\n",
    "weekly = y.resample('W').mean()\n",
    "(weekly.diff() / weekly.shift()).plot(ax=ax1)\n",
    "ax1.set(title='Weekly % Change in Sales Total', ylabel='% Change', xlabel='')\n",
    "ax1.hlines(0, *ax2.get_xlim(), color='black', alpha=.6, ls='--')\n",
    "\n",
    "monthly = y.resample('M').mean()\n",
    "(monthly.diff() / monthly.shift()).plot(ax=ax2)\n",
    "ax2.set(title='Monthly % Change in Sales Total')\n",
    "ax2.hlines(0, *ax2.get_xlim(), color='black', alpha=.6, ls='--')"
   ]
  },
  {
   "cell_type": "markdown",
   "metadata": {},
   "source": [
    "(NB There's also a `pct_change` Series method.)\n",
    "\n",
    "> Plot a time series decomposition."
   ]
  },
  {
   "cell_type": "code",
   "execution_count": null,
   "metadata": {},
   "outputs": [],
   "source": [
    "sm.tsa.seasonal_decompose(y).plot()\n",
    "None"
   ]
  },
  {
   "cell_type": "markdown",
   "metadata": {},
   "source": [
    "This doesn't look terribly useful, let's try a different frequency."
   ]
  },
  {
   "cell_type": "code",
   "execution_count": null,
   "metadata": {},
   "outputs": [],
   "source": [
    "sm.tsa.seasonal_decompose(y.resample('W').mean()).plot()\n",
    "None"
   ]
  },
  {
   "cell_type": "markdown",
   "metadata": {},
   "source": [
    "> Create a lag plot (day over day)."
   ]
  },
  {
   "cell_type": "code",
   "execution_count": null,
   "metadata": {},
   "outputs": [],
   "source": [
    "pd.plotting.lag_plot(y)"
   ]
  },
  {
   "cell_type": "markdown",
   "metadata": {},
   "source": [
    "Let's look at multiple lag periods for the montly data:"
   ]
  },
  {
   "cell_type": "code",
   "execution_count": null,
   "metadata": {},
   "outputs": [],
   "source": [
    "fig, axs = plt.subplots(4, 3, sharex=True, sharey=True)\n",
    "for ax, lag in zip(axs.ravel(), range(1, 13)):\n",
    "    pd.plotting.lag_plot(monthly, lag=lag, ax=ax)\n",
    "    ax.set(title=lag, xlabel='', ylabel='')\n",
    "fig.tight_layout()"
   ]
  },
  {
   "cell_type": "markdown",
   "metadata": {},
   "source": [
    "> Run a lag correlation."
   ]
  },
  {
   "cell_type": "code",
   "execution_count": null,
   "metadata": {},
   "outputs": [],
   "source": [
    "pd.DataFrame({\n",
    "    'y': y,\n",
    "    'y(t + 1)': y.shift(-1),\n",
    "    'y(t + 2)': y.shift(-2)\n",
    "}).corr()"
   ]
  },
  {
   "cell_type": "code",
   "execution_count": null,
   "metadata": {},
   "outputs": [],
   "source": [
    "fig, axs = plt.subplots(2, 3, sharex=True, sharey=True)\n",
    "\n",
    "for ax, lag in zip(axs.ravel(), [1, 12, 26, 45, 52, 76]):\n",
    "    pd.plotting.lag_plot(weekly, lag=lag, ax=ax)\n",
    "    ax.set(title='lag = ' + str(lag), xlabel='', ylabel='')"
   ]
  },
  {
   "cell_type": "code",
   "execution_count": null,
   "metadata": {},
   "outputs": [],
   "source": [
    "pd.plotting.autocorrelation_plot(y.resample('W').mean())"
   ]
  },
  {
   "cell_type": "markdown",
   "metadata": {},
   "source": [
    "To compare:"
   ]
  },
  {
   "cell_type": "code",
   "execution_count": null,
   "metadata": {},
   "outputs": [],
   "source": [
    "import numpy as np\n",
    "x = np.random.randn(1000)\n",
    "pd.plotting.autocorrelation_plot(x)\n",
    "plt.title('Autocorrelation of Random Noise')"
   ]
  },
  {
   "cell_type": "markdown",
   "metadata": {},
   "source": [
    "## German Energy Data"
   ]
  },
  {
   "cell_type": "code",
   "execution_count": null,
   "metadata": {},
   "outputs": [],
   "source": [
    "df = pd.read_csv('https://raw.githubusercontent.com/jenfly/opsd/master/opsd_germany_daily.csv')\n",
    "df.Date = pd.to_datetime(df.Date)\n",
    "print(df.shape)\n",
    "df.head()"
   ]
  },
  {
   "cell_type": "code",
   "execution_count": null,
   "metadata": {},
   "outputs": [],
   "source": [
    "df.fillna(0)"
   ]
  },
  {
   "cell_type": "markdown",
   "metadata": {},
   "source": [
    "Using the percent cutoff method:"
   ]
  },
  {
   "cell_type": "code",
   "execution_count": null,
   "metadata": {},
   "outputs": [],
   "source": [
    "train_pct = .8\n",
    "n = df.shape[0]\n",
    "test_start_index = round(n * train_pct)\n",
    "\n",
    "train = df[:test_start_index]\n",
    "test = df[test_start_index:]\n",
    "\n",
    "train = train.set_index('Date').resample('D').mean()\n",
    "test = test.set_index('Date').resample('D').mean()"
   ]
  },
  {
   "cell_type": "code",
   "execution_count": null,
   "metadata": {},
   "outputs": [],
   "source": [
    "train.Consumption.plot()\n",
    "test.Consumption.plot()"
   ]
  },
  {
   "cell_type": "code",
   "execution_count": null,
   "metadata": {},
   "outputs": [],
   "source": [
    "y = train.Consumption"
   ]
  },
  {
   "cell_type": "code",
   "execution_count": null,
   "metadata": {},
   "outputs": [],
   "source": [
    "table = y.groupby([y.index.strftime('%Y'), y.index.strftime('%m-%b')]).mean().unstack(0)\n",
    "sns.heatmap(table, cmap='Blues')"
   ]
  },
  {
   "cell_type": "code",
   "execution_count": null,
   "metadata": {},
   "outputs": [],
   "source": [
    "with plt.style.context('seaborn-whitegrid'):\n",
    "    fig, axs = plt.subplots(2, 6, sharex=True, sharey=True)\n",
    "\n",
    "fig.subplots_adjust(wspace=0)\n",
    "fig.tight_layout()\n",
    "for ax, (month, x) in zip(axs.ravel(), table.T.iteritems()):\n",
    "    x.plot(ax=ax, title=month[3:])\n",
    "    ax.hlines(x.mean(), *ax.get_xlim(), color='black', alpha=.5, ls='--')\n",
    "\n"
   ]
  },
  {
   "cell_type": "code",
   "execution_count": null,
   "metadata": {},
   "outputs": [],
   "source": [
    "(y.diff() / y.shift()).plot()\n",
    "plt.title('Daily % Change in Consumption')"
   ]
  },
  {
   "cell_type": "code",
   "execution_count": null,
   "metadata": {},
   "outputs": [],
   "source": [
    "sm.tsa.seasonal_decompose(y.resample('M').mean()).plot()\n",
    "None"
   ]
  },
  {
   "cell_type": "markdown",
   "metadata": {},
   "source": [
    "## Bonus\n",
    "\n",
    "- German Energy Data: show changing source over time\n",
    "- Store Item Data: visualize different items over time"
   ]
  }
 ],
 "metadata": {
  "kernelspec": {
   "display_name": "Python 3",
   "language": "python",
   "name": "python3"
  },
  "language_info": {
   "codemirror_mode": {
    "name": "ipython",
    "version": 3
   },
   "file_extension": ".py",
   "mimetype": "text/x-python",
   "name": "python",
   "nbconvert_exporter": "python",
   "pygments_lexer": "ipython3",
   "version": "3.8.3"
  }
 },
 "nbformat": 4,
 "nbformat_minor": 4
}
